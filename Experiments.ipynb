{
 "cells": [
  {
   "cell_type": "code",
   "execution_count": null,
   "metadata": {},
   "outputs": [],
   "source": [
    "import numpy as np\n",
    "from data.power_system import PowerSystem\n",
    "from data.examples import create_example\n",
    "from solvers.solvers import WLS"
   ]
  },
  {
   "cell_type": "markdown",
   "metadata": {},
   "source": [
    "# 3-Bus Example"
   ]
  },
  {
   "cell_type": "code",
   "execution_count": null,
   "metadata": {},
   "outputs": [],
   "source": [
    "# Create the PowerSystem object\n",
    "power_system = create_example(n_buses=3)\n",
    "\n",
    "# Define the solver\n",
    "wls = WLS()\n",
    "\n",
    "# Estimate the state of the power system\n",
    "x, r, G, H, h = power_system.estimate_state(solver=wls)"
   ]
  }
 ],
 "metadata": {
  "language_info": {
   "name": "python"
  }
 },
 "nbformat": 4,
 "nbformat_minor": 2
}
